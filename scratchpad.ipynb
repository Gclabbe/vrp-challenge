{
 "cells": [
  {
   "cell_type": "code",
   "execution_count": null,
   "id": "6bf68924-7f82-4212-9efd-1a296685b8c4",
   "metadata": {},
   "outputs": [],
   "source": [
    "import math\n",
    "import time\n",
    "from argparse import ArgumentParser\n",
    "from typing import List, Optional, Tuple\n",
    "import numpy as np\n",
    "import pandas as pd\n",
    "from os import path\n",
    "import ast\n"
   ]
  },
  {
   "cell_type": "code",
   "execution_count": null,
   "id": "c758f4e7-5640-4935-93fb-cdab5913f90a",
   "metadata": {},
   "outputs": [],
   "source": []
  },
  {
   "cell_type": "markdown",
   "id": "f9572702-363e-4cf0-93a5-13f7d03962d9",
   "metadata": {},
   "source": [
    "# first thoughts on how to approach this before I dig into online resources\r\n",
    "- load data from path/file ... what does the data look like\n",
    "- use numpy or pandas to compute all distances up front (o->p, p->d, d->o)?\r\n",
    "- organize all points in graph form with distances between each poi -- part 2, let's start with heuristic approach\n",
    "- add a driver and get the closest pickup\n",
    "    - at dropoff, find nearest pickup (pure NN)\n",
    "    - can driver -> pu -> do -> o in time?\n",
    "        - Y: do it and remove job from queue\n",
    "        - N: check other routes (NN order) ... no routes add origin cost and retire\n",
    "- more routes in queue?  Add driver\n",
    "- repeat above until queue is empty\n",
    "\n",
    "## to optimize\n",
    "- run multiple times with different seed route?s?\r\n",
    "- drivers head in opposite directions to avoid overlap\r\n",
    "- what happens with the simplest models?\r\n",
    "  - 1 driver, all loads\r\n",
    "  - n drivers, one lo\n",
    "- is all data randomized?  Or are there patterns to exploit\n",
    "- implement graph solution to clean up heuristic approachad each\r\n",
    "\r\n",
    "# key known points\r\n",
    "- number of drivers is unbounded\r\n",
    "- Driver can only drive for 12 hours a day\r\n",
    "- Drivers \"cost\", so one load per driver is going to be VERY expensive 500 minutes\r\n",
    "- Driver goes from (x, y) to (x1, y1)\r\n",
    "- Time is calculated as the euclidean distance between two points\r\n",
    "  - Time = sqrt((x1 - x)^2 + (y1 -e = 141.42 minutes\r\n",
    "- Driday ver starts and ends at (0,0)\r\n",
    "- Total cost = 500 * number of drivers + total # of driven minutes\r\n",
    "- Low total cost with good efficiency is the goal\r\n",
    "- Do not have to determine feasibility ... all problems are solvable\r\n",
    "- Max of 200 loads\r\n"
   ]
  },
  {
   "cell_type": "markdown",
   "id": "d1ec3884-f709-4e1b-99ac-0eb085470de9",
   "metadata": {},
   "source": [
    "giving up on a queue & recalibrate NN after removing jobs ... too many places where I'm fighting index pointers"
   ]
  },
  {
   "cell_type": "code",
   "execution_count": 10,
   "id": "9c0dd300-9d05-4fa3-bc3b-cef07b80ed0d",
   "metadata": {},
   "outputs": [],
   "source": [
    "# all work moved to official submission file now"
   ]
  },
  {
   "cell_type": "code",
   "execution_count": null,
   "id": "0a5ba043-7fbe-453d-8ad0-f210c083d8ea",
   "metadata": {},
   "outputs": [],
   "source": []
  },
  {
   "cell_type": "code",
   "execution_count": null,
   "id": "f670a414-4eeb-4196-b1b5-c51743b913d0",
   "metadata": {},
   "outputs": [],
   "source": []
  }
 ],
 "metadata": {
  "kernelspec": {
   "display_name": "Python 3 (ipykernel)",
   "language": "python",
   "name": "python3"
  },
  "language_info": {
   "codemirror_mode": {
    "name": "ipython",
    "version": 3
   },
   "file_extension": ".py",
   "mimetype": "text/x-python",
   "name": "python",
   "nbconvert_exporter": "python",
   "pygments_lexer": "ipython3",
   "version": "3.10.14"
  }
 },
 "nbformat": 4,
 "nbformat_minor": 5
}
